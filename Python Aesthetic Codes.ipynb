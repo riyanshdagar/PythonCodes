{
 "cells": [
  {
   "cell_type": "code",
   "execution_count": 1,
   "id": "e366819c",
   "metadata": {},
   "outputs": [
    {
     "name": "stderr",
     "output_type": "stream",
     "text": [
      "[nltk_data] Downloading package punkt to /Users/riyansh/nltk_data...\n",
      "[nltk_data]   Package punkt is already up-to-date!\n"
     ]
    },
    {
     "name": "stdout",
     "output_type": "stream",
     "text": [
      "Enter the sentence: my nqme is abcd # 123 .\n",
      "['my', 'nqme', 'is', 'abcd', '#', '123', '.']\n"
     ]
    }
   ],
   "source": [
    "import nltk\n",
    "nltk.download('punkt')\n",
    "sen = input(\"Enter the sentence: \")\n",
    "tok = nltk.word_tokenize(sen)\n",
    "print(tok)"
   ]
  },
  {
   "cell_type": "code",
   "execution_count": 3,
   "id": "a9c031d3",
   "metadata": {},
   "outputs": [
    {
     "name": "stdout",
     "output_type": "stream",
     "text": [
      "Prediction of [0] : 42.0\n",
      "Prediction of [1] : 86.0\n"
     ]
    }
   ],
   "source": [
    "from sklearn.linear_model import LinearRegression\n",
    "X = [[1],[2],[3],[4]]\n",
    "y = [2,4,6,8]\n",
    "model = LinearRegression()\n",
    "model.fit(X,y)\n",
    "test = [[21],[43]]\n",
    "prediction = model.predict(test)\n",
    "for i,pred in enumerate(prediction):\n",
    "    print(f\"Prediction of [{i}] : {pred}\")"
   ]
  },
  {
   "cell_type": "code",
   "execution_count": 1,
   "id": "f946eb0e",
   "metadata": {},
   "outputs": [
    {
     "name": "stdout",
     "output_type": "stream",
     "text": [
      "Enter: 5\n",
      "1 2 3 4 5\n",
      "2 3 4 5 1\n",
      "3 4 5 1 2\n",
      "4 5 1 2 3\n",
      "5 1 2 3 4\n"
     ]
    }
   ],
   "source": [
    "def lat(n):\n",
    "    ls = [[(i+j) % n+1 for j in range(n)] for i in range(n)]\n",
    "    return ls\n",
    "n = int(input(\"Enter: \"))\n",
    "l = lat(n)\n",
    "for i in l:\n",
    "    print(*i)"
   ]
  },
  {
   "cell_type": "code",
   "execution_count": null,
   "id": "9ca2e3c5",
   "metadata": {},
   "outputs": [],
   "source": [
    "total = int(input(\"Et=nter total number of bananas: \"))\n",
    "distance = int(input(\"Enter total distance: \"))\n",
    "load = int(input(\"Enter max_load: \"))\n",
    "lose = 0\n",
    "start = total\n",
    "for i in range(distance):\n",
    "    while(start > 0):\n",
    "        start = start - load\n",
    "        if start == 1:\n",
    "            lose = lose - 1\n",
    "        lose = lose + 2\n",
    "    lose = lose - 1\n",
    "    start = total - lose\n",
    "    if start == 0:\n",
    "        break\n",
    "print(start)"
   ]
  },
  {
   "cell_type": "code",
   "execution_count": null,
   "id": "ef2162bd",
   "metadata": {},
   "outputs": [],
   "source": [
    "str1 = input(\"Enter elements of first list: \")\n",
    "list1 = [int(x) for x in str1.split()]\n",
    "str2 = input(\"Enter elements of second list: \")\n",
    "list2 = [int(x) for x in str2.split()]\n",
    "union = [max(x,y) for x,y in zip(list1,list2)]\n",
    "complement = [1-x for x in union]\n",
    "print(\"Union is: \", union)\n",
    "print(\"Complement is: \", complement)\n",
    "\n",
    "intersection = [min(x,y) for x,y in zip(list1,list2)]\n",
    "complement2 = [1-x for x in intersection]\n",
    "print(\"Intersection is: \",intersection)\n",
    "print(\"Complement is: \", complement2)"
   ]
  },
  {
   "cell_type": "code",
   "execution_count": null,
   "id": "83ef3b09",
   "metadata": {},
   "outputs": [],
   "source": []
  }
 ],
 "metadata": {
  "kernelspec": {
   "display_name": "Python 3 (ipykernel)",
   "language": "python",
   "name": "python3"
  },
  "language_info": {
   "codemirror_mode": {
    "name": "ipython",
    "version": 3
   },
   "file_extension": ".py",
   "mimetype": "text/x-python",
   "name": "python",
   "nbconvert_exporter": "python",
   "pygments_lexer": "ipython3",
   "version": "3.9.7"
  }
 },
 "nbformat": 4,
 "nbformat_minor": 5
}
